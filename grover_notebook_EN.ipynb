{
 "cells": [
  {
   "cell_type": "code",
   "execution_count": null,
   "metadata": {},
   "outputs": [],
   "source": [
    "!pip install qiskit \n",
    "!pip install qiskit-aer\n",
    "!pip install pylatexenc"
   ]
  },
  {
   "attachments": {},
   "cell_type": "markdown",
   "metadata": {},
   "source": [
    "# Import necessary utils"
   ]
  },
  {
   "cell_type": "code",
   "execution_count": null,
   "metadata": {},
   "outputs": [],
   "source": [
    "from qiskit import QuantumCircuit, QuantumRegister, ClassicalRegister\n",
    "from qiskit_aer import AerSimulator\n",
    "from qiskit import transpile\n",
    "from qiskit.visualization import plot_histogram\n",
    "from qiskit.circuit.library import XGate, ZGate\n",
    "\n",
    "import os, sys\n",
    "sys.path.append(os.getcwd())"
   ]
  },
  {
   "cell_type": "code",
   "execution_count": null,
   "metadata": {},
   "outputs": [],
   "source": [
    "# This for Google Colab, so that we can import the files from the repository\n",
    "!git clone https://github.com/algolab-quantique/IMACA-CMAI-Grover.git\n",
    "\n",
    "sys.path.insert(0,'/content/IMACA-CMAI-Grover')"
   ]
  },
  {
   "cell_type": "code",
   "execution_count": null,
   "metadata": {},
   "outputs": [],
   "source": [
    "# Import the utils functions from the repository\n",
    "from utils import get_disjunction_control_state, get_disjunction_qubits"
   ]
  },
  {
   "attachments": {},
   "cell_type": "markdown",
   "metadata": {},
   "source": [
    "# Write the seven statements of the Pincus problem\n",
    "\n",
    "A clause of the form \n",
    "\n",
    "$\n",
    "    (x_0 \\lor x_2 \\lor \\neg x_3)\n",
    "$\n",
    "\n",
    "is written : \n",
    "```\n",
    "clause = {'x0' : True, 'x2' : True, 'x3' : False}\n",
    "````\n",
    "\n",
    "Remember : \n",
    "\n",
    "* x0 = Fearful\n",
    "* x1 = Happy\n",
    "* x2 = Unhealthy\n",
    "* x3 = Noisy\n"
   ]
  },
  {
   "cell_type": "code",
   "execution_count": null,
   "metadata": {},
   "outputs": [],
   "source": [
    "clauses = []\n",
    "\n",
    "# If a native is healthy and courageous, he is also noisy\n",
    "clauses.append({'x2' : True, 'x0' : True, 'x3' : True})\n",
    "\n",
    "# If a native is quiet and fearful, he is also happy\n",
    "# (¬x0 ⌵ x3 ⌵ x1)  \n",
    "# write the definition of the clause here\n",
    "\n",
    "# If a native is healthy and noisy, he is also happy\n",
    "# (x2 ⌵ ¬x3 ⌵ x1)\n",
    "# write the definition of the clause here\n",
    "\n",
    "# If a native is happy and quite, he is also healthy\n",
    "# (¬x1 ⌵ x3 ⌵ ¬x2) \n",
    "# write the definition of the clause here\n",
    "\n",
    "# If a native is fearful and healthy, he is also sad\n",
    "# (¬x0 ⌵ x2 ⌵ ¬x1) \n",
    "# write the definition of the clause here\n",
    "\n",
    "# If a native is sad and unhealthy, he is also fearful\n",
    "# (x1 ⌵ ¬x2 ⌵ x0)  \n",
    "# write the definition of the clause here\n",
    "\n",
    "# If a native is fearful and noisy, he is also healthy\n",
    "# (¬x0 ⌵ ¬x3 ⌵ ¬x2) \n",
    "# write the definition of the clause here"
   ]
  },
  {
   "attachments": {},
   "cell_type": "markdown",
   "metadata": {},
   "source": [
    "# Setup known data of the problem"
   ]
  },
  {
   "cell_type": "code",
   "execution_count": null,
   "metadata": {},
   "outputs": [],
   "source": [
    "# x0 : fearful, x1 : happy, x2 : unhealthy, x3 : noisy\n",
    "nb_variables = 4\n",
    "# 7 statements\n",
    "nb_clauses = len(clauses)"
   ]
  },
  {
   "attachments": {},
   "cell_type": "markdown",
   "metadata": {},
   "source": [
    "# Create function to transform disjunction statement into gate\n",
    "\n",
    "Take a disjunction statement and transform it into quantum circuit. \n",
    "\n",
    "For example, the statement : \n",
    "\n",
    "$\n",
    "    (x_0 \\lor x_1 \\lor \\neg x_2)\n",
    "$\n",
    "\n",
    "would result in the following gates : \n",
    "\n",
    "<img src=\"disj_circuit.png\" alt= “” width=\"15%\" height=\"15%\">\n",
    "\n",
    "Each disjunction is transformed into a circuit containing as many qubits as there is variables in the statement,\n",
    "with one ancillar qubit. The circuit is then converted to a gate that can be appended to the main grover circuit,\n",
    "by specifying the right control and ancillar qubits."
   ]
  },
  {
   "cell_type": "code",
   "execution_count": null,
   "metadata": {},
   "outputs": [],
   "source": [
    "# Tranform logical disjunction into Quantum Gate\n",
    "def logical_disjunction_to_gate(disj_clause):\n",
    "    # Get the number of variables included in the disjuntion clause\n",
    "    nb_disj_variables = len(disj_clause)\n",
    "    \n",
    "    # Set the number of qubits as the number of variables in disjunction + 1 ancillar qubit\n",
    "    nb_qubits = nb_disj_variables + 1\n",
    "    disj_qc = QuantumCircuit(nb_qubits)\n",
    "    qubits = disj_qc.qubits\n",
    "    \n",
    "    # Get the right control state\n",
    "    ctrl_state = get_disjunction_control_state(disj_clause)\n",
    "\n",
    "    # Add an X gate to the ancillar qubit (the last qubit. Position -1 gives the last element)\n",
    "    disj_qc.x(qubits[-1])\n",
    "    \n",
    "    # Create a multi-controlled X gate with specified control state. It has as many control\n",
    "    # qubits as there are variables in the disjunction. \n",
    "    mc_xgate = XGate().control(num_ctrl_qubits=nb_disj_variables, ctrl_state = ctrl_state)\n",
    "    disj_qc.append(mc_xgate, qubits)\n",
    "    \n",
    "    # Transform the disjunction circuit into a gate to append to the grover circuit\n",
    "    disj_gate = disj_qc.to_gate(label='mcx')\n",
    "    \n",
    "    return disj_gate"
   ]
  },
  {
   "attachments": {},
   "cell_type": "markdown",
   "metadata": {},
   "source": [
    "Let's see how this function works."
   ]
  },
  {
   "cell_type": "code",
   "execution_count": null,
   "metadata": {},
   "outputs": [],
   "source": [
    "clause_test = {'x0' : True, 'x1' : True, 'x2' : False}\n",
    "\n",
    "test_qc = QuantumCircuit(4)\n",
    "disj_gate = logical_disjunction_to_gate(clause_test)\n",
    "test_qc.append(disj_gate,range(4))\n",
    "test_qc.decompose().draw('mpl')"
   ]
  },
  {
   "attachments": {},
   "cell_type": "markdown",
   "metadata": {},
   "source": [
    "# Construct the Oracle"
   ]
  },
  {
   "cell_type": "code",
   "execution_count": null,
   "metadata": {},
   "outputs": [],
   "source": [
    "# Create Quantum Registers for the variables and the clauses\n",
    "var_qubits = QuantumRegister(nb_variables, name='x')\n",
    "clause_qubits = QuantumRegister(nb_clauses, name='c')"
   ]
  },
  {
   "cell_type": "code",
   "execution_count": null,
   "metadata": {},
   "outputs": [],
   "source": [
    "# Setup the clause circuit\n",
    "clauses_circuit = QuantumCircuit(var_qubits, clause_qubits)\n",
    "\n",
    "# Add each clause as a disjunction gate : \n",
    "\n",
    "# Clause 0\n",
    "# Convert the first clause into a quantum gate\n",
    "gate = logical_disjunction_to_gate(clauses[0])\n",
    "# Get the qubits associated with the first clause, including the variables involved in the clause.\n",
    "c_qubits = get_disjunction_qubits(clauses[0], clause_qubits[0], var_qubits)\n",
    "# Append the gate to the oracle circuit using the right qubits\n",
    "clauses_circuit.append(gate, c_qubits)\n",
    "\n",
    "# Clause 1\n",
    "# Write your code to append a gate associated to the second clause here #\n",
    "\n",
    "# Clause 2\n",
    "# Write your code to append a gate associated to the clause here #\n",
    "\n",
    "# ...\n",
    "\n",
    "# Clause 6\n",
    "# Write your code to append a gate associated to the clause here #\n",
    "\n",
    "\n",
    "# P.S : you can use for loops if you want.  \n",
    "\n",
    "# Show the circuit : \n",
    "clauses_circuit.decompose(gates_to_decompose=['mcx'], reps=2).draw(output='mpl')"
   ]
  },
  {
   "cell_type": "code",
   "execution_count": null,
   "metadata": {},
   "outputs": [],
   "source": [
    "# Setup the oracle circuit\n",
    "oracle_circuit = QuantumCircuit(var_qubits, clause_qubits)\n",
    "\n",
    "# Add clauses circuit \n",
    "# --- transform to gate to use label (only for drawing purposes) ---\n",
    "oracle_circuit.append(clauses_circuit.to_gate(label='clauses_circuit'), clauses_circuit.qubits)\n",
    "\n",
    "# Add multi-control Z gate \n",
    "mc_z_gate = ZGate().control(nb_clauses - 1)\n",
    "oracle_circuit.append(mc_z_gate, clause_qubits)\n",
    "\n",
    "# Add reversed clauses_circuit\n",
    "oracle_circuit.append(clauses_circuit.reverse_ops().to_gate(label='clauses_circuit'), oracle_circuit.qubits)\n",
    "\n",
    "# Show circuit\n",
    "oracle_circuit.decompose(gates_to_decompose=['clauses_circuit', 'mcx'], reps=2).draw(output='mpl')\n"
   ]
  },
  {
   "attachments": {},
   "cell_type": "markdown",
   "metadata": {},
   "source": [
    "# Construct the diffuser\n",
    "\n",
    "Complete the diffuser circuit."
   ]
  },
  {
   "cell_type": "code",
   "execution_count": null,
   "metadata": {},
   "outputs": [],
   "source": [
    "# Setup the grover circuit\n",
    "diffuser_circuit = QuantumCircuit(var_qubits)\n",
    "\n",
    "# Add H and X gates (change of basis)\n",
    "\n",
    "# Add multi-control Z gate \n",
    "mc_z_gate = ZGate().control(nb_variables - 1)\n",
    "diffuser_circuit.append(mc_z_gate, var_qubits)\n",
    "\n",
    "# Add X and H gates (revert change of basis)\n",
    "\n",
    "# Show circuit\n",
    "diffuser_circuit.draw(output='mpl')"
   ]
  },
  {
   "attachments": {},
   "cell_type": "markdown",
   "metadata": {},
   "source": [
    "# Assemble Grover circuit\n",
    "\n",
    "Complete theGrover circuit."
   ]
  },
  {
   "cell_type": "code",
   "execution_count": null,
   "metadata": {},
   "outputs": [],
   "source": [
    "# Setup the Grover circuit\n",
    "c_bits = ClassicalRegister(nb_variables)\n",
    "grover_circuit = QuantumCircuit(var_qubits, clause_qubits, c_bits)\n",
    "\n",
    "# Apply a H gate for all variables qubits\n",
    "### Add 4 H gates on the right qubits (variables qubits)\n",
    "\n",
    "# Setup the number of iterations\n",
    "nb_iterations = 1 # Play with the number of iterations\n",
    "\n",
    "# Add as many oracle and diffusor circuits as there are iterations\n",
    "for it in range(nb_iterations):\n",
    "    grover_circuit.append(oracle_circuit.to_gate(label='oracle'), grover_circuit.qubits)\n",
    "    grover_circuit.barrier(grover_circuit.qubits)\n",
    "    grover_circuit.append(diffuser_circuit.to_gate(label='diffusor'), grover_circuit.qubits[0:nb_variables])\n",
    "    \n",
    "# Add measurement to evaluate the circuit\n",
    "grover_circuit.measure(var_qubits, c_bits)\n",
    "\n",
    "# Show circuit\n",
    "grover_circuit.decompose(gates_to_decompose=['oracle', 'clauses_circuit', 'diffusor', 'mcx'], reps=3).draw(output='mpl',\n",
    "                                                                                                   scale=0.8)"
   ]
  },
  {
   "attachments": {},
   "cell_type": "markdown",
   "metadata": {},
   "source": [
    "# Measure solution"
   ]
  },
  {
   "cell_type": "code",
   "execution_count": null,
   "metadata": {},
   "outputs": [],
   "source": [
    "# Prepare a simulation to run and measure the solution\n",
    "def run_circuit(circ: QuantumCircuit) -> dict:\n",
    "    \"\"\"\n",
    "    Run a quantum circuit on the AerSimulator and return the counts\n",
    "    @param circ: QuantumCircuit to run\n",
    "    @return: dictionary of measurement results and their counts\n",
    "    \"\"\"\n",
    "    simulator = AerSimulator()\n",
    "    circ = transpile(circ, simulator)\n",
    "    result = simulator.run(circ, shots=1000).result()\n",
    "    return result.get_counts(circ)"
   ]
  },
  {
   "cell_type": "code",
   "execution_count": null,
   "metadata": {},
   "outputs": [],
   "source": [
    "# Execute circuit and get counts\n",
    "counts = run_circuit(grover_circuit)\n",
    "print(counts)"
   ]
  },
  {
   "cell_type": "code",
   "execution_count": null,
   "metadata": {},
   "outputs": [],
   "source": [
    "plot_histogram(counts)"
   ]
  },
  {
   "attachments": {},
   "cell_type": "markdown",
   "metadata": {},
   "source": [
    "Remember : \n",
    "\n",
    "* x0 = Fearful\n",
    "* x1 = Happy\n",
    "* x2 = Unhealthy\n",
    "* x3 = Noisy\n"
   ]
  },
  {
   "cell_type": "markdown",
   "metadata": {},
   "source": []
  }
 ],
 "metadata": {
  "kernelspec": {
   "display_name": "CQ",
   "language": "python",
   "name": "python3"
  },
  "language_info": {
   "codemirror_mode": {
    "name": "ipython",
    "version": 3
   },
   "file_extension": ".py",
   "mimetype": "text/x-python",
   "name": "python",
   "nbconvert_exporter": "python",
   "pygments_lexer": "ipython3",
   "version": "3.11.2"
  },
  "orig_nbformat": 4
 },
 "nbformat": 4,
 "nbformat_minor": 2
}
