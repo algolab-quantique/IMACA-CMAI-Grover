{
 "cells": [
  {
   "cell_type": "code",
   "execution_count": null,
   "metadata": {
    "ExecuteTime": {
     "end_time": "2025-02-11T19:57:13.006365Z",
     "start_time": "2025-02-11T19:57:11.941017Z"
    }
   },
   "outputs": [],
   "source": [
    "# !pip install qiskit \n",
    "# !pip install qiskit-aer\n",
    "# !pip install pylatexenc"
   ]
  },
  {
   "attachments": {},
   "cell_type": "markdown",
   "metadata": {},
   "source": [
    "# Importer les bibliothèques nécessaires"
   ]
  },
  {
   "cell_type": "code",
   "execution_count": null,
   "metadata": {
    "ExecuteTime": {
     "end_time": "2025-02-11T20:11:12.981829Z",
     "start_time": "2025-02-11T20:11:12.975084Z"
    }
   },
   "outputs": [],
   "source": [
    "from qiskit_aer import Aer"
   ]
  },
  {
   "cell_type": "code",
   "execution_count": null,
   "metadata": {
    "ExecuteTime": {
     "end_time": "2025-02-11T20:00:14.543075Z",
     "start_time": "2025-02-11T20:00:10.332102Z"
    }
   },
   "outputs": [],
   "source": [
    "from qiskit import QuantumCircuit, QuantumRegister, ClassicalRegister #, Aer, execute\n",
    "from qiskit.visualization import plot_histogram\n",
    "from qiskit.circuit.library import XGate, ZGate\n",
    "\n",
    "import os, sys\n",
    "sys.path.append(os.getcwd())\n",
    "\n",
    "from utils import get_disjunction_control_state, get_disjunction_qubits"
   ]
  },
  {
   "attachments": {},
   "cell_type": "markdown",
   "metadata": {},
   "source": [
    "# Les sept clauses du problème de Pincus\n",
    "\n",
    "Une clause de la forme\n",
    "\n",
    "$\n",
    "    (x_0 \\lor x_2 \\lor \\neg x_3)\n",
    "$\n",
    "\n",
    "est écrite : \n",
    "```\n",
    "clause = {'x0' : True, 'x2' : True, 'x3' : False}\n",
    "````\n",
    "\n",
    "Rappel : \n",
    "\n",
    "* x0 = Peureux\n",
    "* x1 = Heureux\n",
    "* x2 = Malade\n",
    "* x3 = Bruyant\n"
   ]
  },
  {
   "cell_type": "code",
   "execution_count": null,
   "metadata": {
    "ExecuteTime": {
     "end_time": "2025-02-11T20:04:42.016067Z",
     "start_time": "2025-02-11T20:04:42.012408Z"
    }
   },
   "outputs": [],
   "source": [
    "clauses = []\n",
    "\n",
    "# Si un habitant est en santé et courageux, il est aussi bruyant. \n",
    "# (x2 ⌵ x0 ⌵ x3)  \n",
    "clauses.append({'x2' : True, 'x0' : True, 'x3' : True})\n",
    "\n",
    "# Si un habitant est peureux et discret, il est aussi heureux.\n",
    "# (¬x0 ⌵ x3 ⌵ x1)  \n",
    "# écrire la définition de la clause ici\n",
    "\n",
    "# Si un habitant est en santé et bruyant, il est aussi heureux.\n",
    "# (x2 ⌵ ¬x3 ⌵ x1)  \n",
    "# écrire la définition de la clause ici\n",
    "\n",
    "# Si un habitant est en heureux et discret, il est aussi en santé.\n",
    "# (¬x1 ⌵ x3 ⌵ ¬x2)  \n",
    "# écrire la définition de la clause ici\n",
    "\n",
    "# Si un habitant est en peureux et en santé, il est aussi triste.\n",
    "# (¬x0 ⌵ x2 ⌵ ¬x1)  \n",
    "# écrire la définition de la clause ici\n",
    "\n",
    "# Si un habitant est en triste et malade, il est aussi peureux.\n",
    "# (x1 ⌵ ¬x2 ⌵ x0)  \n",
    "# écrire la définition de la clause ici\n",
    "\n",
    "# Si un habitant est en peureux et bruyant, il est aussi en santé.\n",
    "# (¬x0 ⌵ ¬x3 ⌵ ¬x2)  \n",
    "# écrire la définition de la clause ici"
   ]
  },
  {
   "attachments": {},
   "cell_type": "markdown",
   "metadata": {},
   "source": [
    "# Données connues du problème"
   ]
  },
  {
   "cell_type": "code",
   "execution_count": null,
   "metadata": {
    "ExecuteTime": {
     "end_time": "2025-02-11T20:04:46.061205Z",
     "start_time": "2025-02-11T20:04:46.059193Z"
    }
   },
   "outputs": [],
   "source": [
    "# x0 : peureux, x1 : heureux, x2 : malade, x3 : bruyant\n",
    "nb_variables = 4\n",
    "# 7 clauses\n",
    "nb_clauses = len(clauses)"
   ]
  },
  {
   "attachments": {},
   "cell_type": "markdown",
   "metadata": {},
   "source": [
    "# Création d'une fonction pour transformer la disjonction en un circuit\n",
    "\n",
    "Nous allons définir une fonction qui prend en entrée une disjonction et qui la transforme en circuit quantique. \n",
    "\n",
    "Par exemple, la formule : \n",
    "\n",
    "$\n",
    "    (x_0 \\lor x_1 \\lor \\neg x_2)\n",
    "$\n",
    "\n",
    "serait transformée en la série de portes suivantes : \n",
    "\n",
    "<img src=\"disj_circuit.png\" alt= “” width=\"15%\" height=\"15%\">\n",
    "\n",
    "Chaque disjonction est transformée en un circuit contenant autant de qubits qu'il y a de variables dans la formule, en\n",
    "plus d'un qubit ancillaire associé à la clause en question. Le circuit est ensuite converti en une porte qui peut être\n",
    "ajoutée à un circuit (notamment à l'oracle), en spécifiant les bons qubits. "
   ]
  },
  {
   "cell_type": "code",
   "execution_count": null,
   "metadata": {
    "ExecuteTime": {
     "end_time": "2025-02-11T19:59:46.836185Z",
     "start_time": "2025-02-11T19:59:46.830782Z"
    }
   },
   "outputs": [],
   "source": [
    "# Transformer une disjonction en une porte\n",
    "def logical_disjunction_to_gate(disj_clause):\n",
    "    # Nombre de variables dans la clause\n",
    "    nb_disj_variables = len(disj_clause)\n",
    "    \n",
    "    # Nombre de qubits dans la porte de disjonction (nb_variables + 1 qubit ancillaire)\n",
    "    nb_qubits = nb_disj_variables + 1\n",
    "    disj_qc = QuantumCircuit(nb_qubits)\n",
    "    qubits = disj_qc.qubits\n",
    "    \n",
    "    # Obtenir le bon état de controle pour la porte multi-controle X\n",
    "    ctrl_state = get_disjunction_control_state(disj_clause)\n",
    "    \n",
    "    # Créer une porte multi-controle X avec le bon nombre de qubits\n",
    "    mc_xgate = XGate().control(num_ctrl_qubits=nb_disj_variables, ctrl_state = ctrl_state)\n",
    "    disj_qc.append(mc_xgate, qubits)\n",
    "    \n",
    "    # Ajouter une porte X au qubit à la position -1 (dernière), le qubit ancillaire\n",
    "    disj_qc.x(qubits[-1])\n",
    "    \n",
    "    # Transformer le circuit de disjonction en une porte avec un nom, mcx\n",
    "    disj_gate = disj_qc.to_gate(label='mcx')\n",
    "    return disj_gate"
   ]
  },
  {
   "attachments": {},
   "cell_type": "markdown",
   "metadata": {},
   "source": [
    "Voyons comment on peut utiliser cette fonction."
   ]
  },
  {
   "cell_type": "code",
   "execution_count": null,
   "metadata": {
    "ExecuteTime": {
     "end_time": "2025-02-11T20:04:56.360618Z",
     "start_time": "2025-02-11T20:04:56.289391Z"
    }
   },
   "outputs": [],
   "source": [
    "clause_test = {'x0' : True, 'x1' : True, 'x2' : False}\n",
    "\n",
    "test_qc = QuantumCircuit(4)\n",
    "disj_gate = logical_disjunction_to_gate(clause_test)\n",
    "test_qc.append(disj_gate,range(4))\n",
    "test_qc.decompose().draw('mpl')"
   ]
  },
  {
   "attachments": {},
   "cell_type": "markdown",
   "metadata": {},
   "source": [
    "# Construire l'oracle"
   ]
  },
  {
   "cell_type": "code",
   "execution_count": null,
   "metadata": {
    "ExecuteTime": {
     "end_time": "2025-02-11T20:05:00.360617Z",
     "start_time": "2025-02-11T20:05:00.357595Z"
    }
   },
   "outputs": [],
   "source": [
    "# Créer des registres quantiques pour les variables et les clauses\n",
    "var_qubits = QuantumRegister(nb_variables, name='x')\n",
    "clause_qubits = QuantumRegister(nb_clauses, name='c')"
   ]
  },
  {
   "cell_type": "code",
   "execution_count": null,
   "metadata": {
    "ExecuteTime": {
     "end_time": "2025-02-11T20:05:17.678273Z",
     "start_time": "2025-02-11T20:05:17.607618Z"
    }
   },
   "outputs": [],
   "source": [
    "# Construire le circuit de clauses\n",
    "clauses_circuit = QuantumCircuit(var_qubits, clause_qubits)\n",
    "\n",
    "# Ajouter chaque clause de disjonction comme une porte : \n",
    "\n",
    "# Clause 0\n",
    "# Convertir la première disjonction en porte\n",
    "gate = logical_disjunction_to_gate(clauses[0])\n",
    "# Sélectionner les qubits associés à la première clause\n",
    "c_qubits = get_disjunction_qubits(clauses[0], clause_qubits[0], var_qubits)\n",
    "# Ajouter la porte au circuit de clauses\n",
    "clauses_circuit.append(gate, c_qubits)\n",
    "\n",
    "# Clause 1\n",
    "# Écrire le code pour ajouter la clause 1 ici #\n",
    "\n",
    "# Clause 2\n",
    "# Écrire le code pour ajouter la clause 2 ici #\n",
    "\n",
    "\n",
    "# ...\n",
    "\n",
    "# Clause 6\n",
    "# Écrire le code pour ajouter la clause 6 ici #\n",
    "\n",
    "\n",
    "# P.S : vous pouvez utiliser des boucles si vous le désirez.  \n",
    "\n",
    "# Afficher le circuit : \n",
    "clauses_circuit.decompose(gates_to_decompose=['mcx'], reps=2).draw(output='mpl')"
   ]
  },
  {
   "cell_type": "code",
   "execution_count": null,
   "metadata": {
    "ExecuteTime": {
     "end_time": "2025-02-11T20:05:40.039793Z",
     "start_time": "2025-02-11T20:05:39.769581Z"
    }
   },
   "outputs": [],
   "source": [
    "# Construire le circuit de l'oracle\n",
    "oracle_circuit = QuantumCircuit(var_qubits, clause_qubits)\n",
    "\n",
    "# Ajouter le circuit de clauses \n",
    "# --- la transformation vers une porte n'est utile qu'à des fins d'affichage plus tard ---\n",
    "oracle_circuit.append(clauses_circuit.to_gate(label='clauses_circuit'), clauses_circuit.qubits)\n",
    "\n",
    "# Ajouter la porte multi-controle Z\n",
    "mc_z_gate = ZGate().control(nb_clauses - 1)\n",
    "oracle_circuit.append(mc_z_gate, clause_qubits)\n",
    "\n",
    "# Ajouter l'inverse du circuit de clauses\n",
    "oracle_circuit.append(clauses_circuit.reverse_ops().to_gate(label='clauses_circuit'), oracle_circuit.qubits)\n",
    "\n",
    "# Afficher le circuit\n",
    "oracle_circuit.decompose(gates_to_decompose=['clauses_circuit', 'mcx'], reps=2).draw(output='mpl')\n"
   ]
  },
  {
   "attachments": {},
   "cell_type": "markdown",
   "metadata": {},
   "source": [
    "# Construire le diffuseur\n",
    "\n",
    "Complétez le circuit du diffuseur."
   ]
  },
  {
   "cell_type": "code",
   "execution_count": null,
   "metadata": {
    "ExecuteTime": {
     "end_time": "2025-02-11T20:07:25.660381Z",
     "start_time": "2025-02-11T20:07:23.214416Z"
    }
   },
   "outputs": [],
   "source": [
    "# Construire le circuit de diffuseur\n",
    "diffuser_circuit = QuantumCircuit(var_qubits)\n",
    "\n",
    "# Ajouter des portes H et X pour chaque qubit du diffuseur\n",
    "### 4 portes H pour les variables\n",
    "### 4 portes X pour les variables\n",
    "\n",
    "# Ajouter une multi-controle Z  \n",
    "mc_z_gate = ZGate().control(nb_variables - 1)\n",
    "diffuser_circuit.append(mc_z_gate, var_qubits)\n",
    "\n",
    "# Ajouter des portes X et H pour chaque qubit du diffuseur\n",
    "### 4 portes X pour les variables\n",
    "### 4 portes H pour les variables\n",
    "\n",
    "# Afficher le circuit\n",
    "diffuser_circuit.draw(output='mpl')"
   ]
  },
  {
   "attachments": {},
   "cell_type": "markdown",
   "metadata": {},
   "source": [
    "# Assembler le circuit de Grover\n",
    "\n",
    "Complétez le circuit de Grover."
   ]
  },
  {
   "cell_type": "code",
   "execution_count": null,
   "metadata": {
    "ExecuteTime": {
     "end_time": "2025-02-11T20:07:57.887941Z",
     "start_time": "2025-02-11T20:07:57.785132Z"
    }
   },
   "outputs": [],
   "source": [
    "# Construire le circuit de Grover\n",
    "c_bits = ClassicalRegister(nb_variables)\n",
    "grover_circuit = QuantumCircuit(var_qubits, clause_qubits, c_bits)\n",
    "\n",
    "# Ajouter des portes H pour chaque variable\n",
    "### 4 portes H pour les variables\n",
    "\n",
    "# Identifier le nombre d'iterations\n",
    "nb_iterations = 1 # Jouez avec le nombre d'itérations pour en voir l'effet\n",
    "\n",
    "# Ajouter autant d'oracles et de diffuseurs qu'il y a de nombre d'itérations\n",
    "for it in range(nb_iterations):\n",
    "    grover_circuit.append(oracle_circuit.to_gate(label='oracle'), grover_circuit.qubits)\n",
    "    grover_circuit.barrier(grover_circuit.qubits)\n",
    "    grover_circuit.append(diffuser_circuit.to_gate(label='diffusor'), grover_circuit.qubits[0:nb_variables])\n",
    "    \n",
    "# Ajouter les mesures pour l'evaluation du circuit\n",
    "grover_circuit.measure(var_qubits, c_bits)\n",
    "\n",
    "# Afficher le circuit\n",
    "grover_circuit.decompose(gates_to_decompose=['oracle', 'clauses_circuit', 'diffusor', 'mcx'], reps=3).draw(output='mpl',\n",
    "                                                                                                   scale=0.8)"
   ]
  },
  {
   "attachments": {},
   "cell_type": "markdown",
   "metadata": {},
   "source": [
    "# Mesure de la solution"
   ]
  },
  {
   "cell_type": "code",
   "execution_count": null,
   "metadata": {
    "ExecuteTime": {
     "end_time": "2025-02-11T20:14:47.259094Z",
     "start_time": "2025-02-11T20:14:47.247534Z"
    }
   },
   "outputs": [],
   "source": [
    "from qiskit_aer import AerSimulator\n",
    "from qiskit import transpile\n",
    "\n",
    "# Prepaper une simulation pour rouler et mesurer la solution\n",
    "def run_circuit(circ: QuantumCircuit) -> dict:\n",
    "    \"\"\"\n",
    "    Run a quantum circuit on the AerSimulator and return the counts\n",
    "    @param circ: QuantumCircuit to run\n",
    "    @return: dictionary of measurement results and their counts\n",
    "    \"\"\"\n",
    "    simulator = AerSimulator()\n",
    "    circ = transpile(circ, simulator)\n",
    "    result = simulator.run(circ, shots=1000).result()\n",
    "    return result.get_counts(circ)"
   ]
  },
  {
   "cell_type": "code",
   "execution_count": null,
   "metadata": {
    "ExecuteTime": {
     "end_time": "2025-02-11T20:15:37.730103Z",
     "start_time": "2025-02-11T20:15:37.680030Z"
    }
   },
   "outputs": [],
   "source": [
    "\n",
    "# Executer le circuit et obtenir le compte de solutions\n",
    "counts = run_circuit(grover_circuit)\n",
    "\n",
    "print(counts)"
   ]
  },
  {
   "cell_type": "code",
   "execution_count": null,
   "metadata": {
    "ExecuteTime": {
     "end_time": "2025-02-11T20:15:42.555102Z",
     "start_time": "2025-02-11T20:15:42.500242Z"
    }
   },
   "outputs": [],
   "source": [
    "# Afficher l'histogramme de comptes\n",
    "plot_histogram(counts)"
   ]
  },
  {
   "attachments": {},
   "cell_type": "markdown",
   "metadata": {},
   "source": [
    "Rappel : \n",
    "\n",
    "* x0 = Peureux\n",
    "* x1 = Heureux\n",
    "* x2 = Malade\n",
    "* x3 = Bruyant"
   ]
  }
 ],
 "metadata": {
  "kernelspec": {
   "display_name": "qiskit",
   "language": "python",
   "name": "python3"
  },
  "language_info": {
   "codemirror_mode": {
    "name": "ipython",
    "version": 3
   },
   "file_extension": ".py",
   "mimetype": "text/x-python",
   "name": "python",
   "nbconvert_exporter": "python",
   "pygments_lexer": "ipython3",
   "version": "3.9.12"
  },
  "orig_nbformat": 4,
  "vscode": {
   "interpreter": {
    "hash": "81cfc0e50c93f82568610dccb22eae6eb90d80f5b8c4769a839926e4ff39b503"
   }
  }
 },
 "nbformat": 4,
 "nbformat_minor": 2
}
